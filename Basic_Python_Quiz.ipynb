{
  "nbformat": 4,
  "nbformat_minor": 0,
  "metadata": {
    "colab": {
      "name": "Basic Python Quiz",
      "provenance": []
    },
    "kernelspec": {
      "name": "python3",
      "display_name": "Python 3"
    },
    "language_info": {
      "name": "python"
    }
  },
  "cells": [
    {
      "cell_type": "code",
      "execution_count": 6,
      "metadata": {
        "colab": {
          "base_uri": "https://localhost:8080/"
        },
        "id": "fbs9nby8wcLe",
        "outputId": "74e16a5b-ea15-4b23-f0e6-ffedabadf086"
      },
      "outputs": [
        {
          "output_type": "stream",
          "name": "stdout",
          "text": [
            "!!! Welcome to Basic Python Quiz !!!\n",
            "1. Playing The Quiz\n",
            "2. Quit\n",
            "What is your choice ? 1\n",
            "Do you want to play ? yes\n",
            "What is the correct file extension for Python files ?.py\n",
            "You're Correct!!!\n",
            "Insert COMMENTS in Python ?#this is the comments\n",
            "You're Correct!!!\n",
            "How do you create a variable with the numeric value 20 ?x = 20\n",
            "You're Correct!!!\n",
            "You got 3 questions correct!\n",
            "You got 100.0%.\n"
          ]
        }
      ],
      "source": [
        "print(\"!!! Welcome to Basic Python Quiz !!!\")\n",
        "print(\"1. Playing The Quiz\")\n",
        "print(\"2. Quit\")\n",
        "\n",
        "ch = int(input(\"What is your choice ? \"))\n",
        "\n",
        "if ch==1 :\n",
        "  p = input(\"Do you want to play ? \")\n",
        "  if p.lower() == \"yes\":\n",
        "    score = 0\n",
        "\n",
        "    q1=input('What is the correct file extension for Python files ?')\n",
        "    if q1.lower() == \".py\":\n",
        "      print(\"You're Correct!!!\")\n",
        "      score += 1\n",
        "    else:\n",
        "      print(\"Incorrect!\")\n",
        "    \n",
        "    q2=input('Insert COMMENTS in Python ?')\n",
        "    if q2.lower() == '#this is the comments':\n",
        "      print(\"You're Correct!!!\")\n",
        "      score += 1\n",
        "    else:\n",
        "      print(\"Incorrect!\")\n",
        "    \n",
        "    q3=input('How do you create a variable with the numeric value 20 ?')\n",
        "    if q3.lower() == 'x = 20':\n",
        "      print(\"You're Correct!!!\")\n",
        "      score += 1\n",
        "    else:\n",
        "      print(\"Incorrect!\")\n",
        "\n",
        "    print(\"CONGRATULATIONS !!! You got \" + str(score) + \" questions correct!\")\n",
        "    print(\"You got \" + str((score / 3) * 100) + \"%\")\n",
        "\n",
        "  else:\n",
        "    print(\"Thanks for visit my Quiz, Have a nice day :) \")\n",
        "else :\n",
        "  print(\"Thanks for visit my Quiz, Have a nice day :) \")"
      ]
    }
  ]
}